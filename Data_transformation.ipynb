{
  "nbformat": 4,
  "nbformat_minor": 0,
  "metadata": {
    "colab": {
      "provenance": [],
      "authorship_tag": "ABX9TyO/adjSAmDDLlj6oPwIuoxx",
      "include_colab_link": true
    },
    "kernelspec": {
      "name": "python3",
      "display_name": "Python 3"
    },
    "language_info": {
      "name": "python"
    }
  },
  "cells": [
    {
      "cell_type": "markdown",
      "metadata": {
        "id": "view-in-github",
        "colab_type": "text"
      },
      "source": [
        "<a href=\"https://colab.research.google.com/github/Naveenrajkumar1389/EDA/blob/main/Data_transformation.ipynb\" target=\"_parent\"><img src=\"https://colab.research.google.com/assets/colab-badge.svg\" alt=\"Open In Colab\"/></a>"
      ]
    },
    {
      "cell_type": "code",
      "execution_count": null,
      "metadata": {
        "colab": {
          "base_uri": "https://localhost:8080/"
        },
        "id": "xBCZX_q4kZeU",
        "outputId": "6a13d0cc-c90d-4003-9a70-41dd93966613"
      },
      "outputs": [
        {
          "output_type": "stream",
          "name": "stdout",
          "text": [
            "Drive already mounted at /content/gdrive; to attempt to forcibly remount, call drive.mount(\"/content/gdrive\", force_remount=True).\n",
            "1000\n"
          ]
        }
      ],
      "source": [
        "from google.colab import drive\n",
        "drive.mount('/content/gdrive')\n",
        "import pandas as pd\n",
        "import numpy as np\n",
        "from scipy import stats\n",
        "df= pd.read_csv('/content/bike_buyers.csv')\n",
        "total_rows =len(df)\n",
        "print(total_rows)"
      ]
    },
    {
      "cell_type": "code",
      "source": [
        "print(df.isnull().sum())"
      ],
      "metadata": {
        "colab": {
          "base_uri": "https://localhost:8080/"
        },
        "id": "QaYKzh1v2tlp",
        "outputId": "5982174b-7c09-435e-a040-7ec4c7dd258c"
      },
      "execution_count": null,
      "outputs": [
        {
          "output_type": "stream",
          "name": "stdout",
          "text": [
            "ID                   0\n",
            "Marital Status       7\n",
            "Gender              11\n",
            "Income               6\n",
            "Children             8\n",
            "Education            0\n",
            "Occupation           0\n",
            "Home Owner           4\n",
            "Cars                 9\n",
            "Commute Distance     0\n",
            "Region               0\n",
            "Age                  8\n",
            "Purchased Bike       0\n",
            "dtype: int64\n"
          ]
        }
      ]
    },
    {
      "cell_type": "code",
      "source": [
        "df['Income'].fillna(df['Income'].mean(),inplace =True)\n",
        "df['Cars'].fillna(df['Cars'].mean(),inplace =True)\n",
        "df['Age'].fillna(df['Age'].mean(),inplace =True)\n",
        "df['Children'].fillna(df['Children'].mean(),inplace =True)\n",
        "print(len(df))"
      ],
      "metadata": {
        "colab": {
          "base_uri": "https://localhost:8080/"
        },
        "id": "ghXY0YPg3W8x",
        "outputId": "0a3831a3-a5a5-4444-f35d-0c5787854428"
      },
      "execution_count": null,
      "outputs": [
        {
          "output_type": "stream",
          "name": "stdout",
          "text": [
            "978\n"
          ]
        }
      ]
    },
    {
      "cell_type": "code",
      "source": [
        "print(df.isnull().sum())"
      ],
      "metadata": {
        "colab": {
          "base_uri": "https://localhost:8080/"
        },
        "id": "qZrWuIYU3x9h",
        "outputId": "28a03202-a915-487b-b4d8-5e13a6fee0a1"
      },
      "execution_count": null,
      "outputs": [
        {
          "output_type": "stream",
          "name": "stdout",
          "text": [
            "ID                   0\n",
            "Marital Status       7\n",
            "Gender              11\n",
            "Income               0\n",
            "Children             0\n",
            "Education            0\n",
            "Occupation           0\n",
            "Home Owner           4\n",
            "Cars                 0\n",
            "Commute Distance     0\n",
            "Region               0\n",
            "Age                  0\n",
            "Purchased Bike       0\n",
            "dtype: int64\n"
          ]
        }
      ]
    },
    {
      "cell_type": "code",
      "source": [
        "print(df.describe())"
      ],
      "metadata": {
        "colab": {
          "base_uri": "https://localhost:8080/"
        },
        "id": "kR7PEiQ939MF",
        "outputId": "9e332724-aec0-452c-d178-d3f0da27692c"
      },
      "execution_count": null,
      "outputs": [
        {
          "output_type": "stream",
          "name": "stdout",
          "text": [
            "                 ID         Income     Children         Cars          Age\n",
            "count   1000.000000    1000.000000  1000.000000  1000.000000  1000.000000\n",
            "mean   19965.992000   56267.605634     1.910282     1.455096    44.181452\n",
            "std     5347.333948   30974.380206     1.620383     1.116691    11.316422\n",
            "min    11000.000000   10000.000000     0.000000     0.000000    25.000000\n",
            "25%    15290.750000   30000.000000     0.000000     1.000000    35.000000\n",
            "50%    19744.000000   60000.000000     2.000000     1.000000    43.000000\n",
            "75%    24470.750000   70000.000000     3.000000     2.000000    52.000000\n",
            "max    29447.000000  170000.000000     5.000000     4.000000    89.000000\n"
          ]
        }
      ]
    },
    {
      "cell_type": "code",
      "source": [
        "aggregated_data = df.groupby('Gender')['Income'].mean()\n",
        "print(aggregated_data)"
      ],
      "metadata": {
        "colab": {
          "base_uri": "https://localhost:8080/"
        },
        "id": "abmSkf1PsWIi",
        "outputId": "87586fbc-9744-40a6-e081-5449e8f9b488"
      },
      "execution_count": null,
      "outputs": [
        {
          "output_type": "stream",
          "name": "stdout",
          "text": [
            "Gender\n",
            "Female    54661.190965\n",
            "Male      57560.483871\n",
            "Name: Income, dtype: float64\n"
          ]
        }
      ]
    },
    {
      "cell_type": "code",
      "source": [
        "aggregated_data = df.groupby('Occupation')['Income'].mean()\n",
        "print(aggregated_data)"
      ],
      "metadata": {
        "colab": {
          "base_uri": "https://localhost:8080/"
        },
        "id": "FHmGGhjvs2JG",
        "outputId": "638ee18b-f776-4d5f-d1bf-9812461e621e"
      },
      "execution_count": null,
      "outputs": [
        {
          "output_type": "stream",
          "name": "stdout",
          "text": [
            "Occupation\n",
            "Clerical          31022.727273\n",
            "Management        86647.398844\n",
            "Manual            15086.206897\n",
            "Professional      75054.545455\n",
            "Skilled Manual    51535.433071\n",
            "Name: Income, dtype: float64\n"
          ]
        }
      ]
    },
    {
      "cell_type": "code",
      "source": [
        "print(df.isnull().sum())"
      ],
      "metadata": {
        "colab": {
          "base_uri": "https://localhost:8080/"
        },
        "id": "qXNX8fX4CnwZ",
        "outputId": "742541ab-b73a-4e18-846c-c5284c22469e"
      },
      "execution_count": null,
      "outputs": [
        {
          "output_type": "stream",
          "name": "stdout",
          "text": [
            "ID                  0\n",
            "Marital Status      0\n",
            "Gender              0\n",
            "Income              0\n",
            "Children            0\n",
            "Education           0\n",
            "Occupation          0\n",
            "Home Owner          0\n",
            "Cars                0\n",
            "Commute Distance    0\n",
            "Region              0\n",
            "Age                 0\n",
            "Purchased Bike      0\n",
            "dtype: int64\n"
          ]
        }
      ]
    },
    {
      "cell_type": "code",
      "source": [
        "df=df.dropna()\n",
        "print(\"Total rows after eliminate missing values:\",len(df))\n",
        "print(df.isnull().sum())"
      ],
      "metadata": {
        "colab": {
          "base_uri": "https://localhost:8080/"
        },
        "id": "J55zI4aQCrY1",
        "outputId": "072fc53e-aecc-4217-9fea-c9225da47bb1"
      },
      "execution_count": null,
      "outputs": [
        {
          "output_type": "stream",
          "name": "stdout",
          "text": [
            "Total rows after eliminate missing values: 978\n",
            "ID                  0\n",
            "Marital Status      0\n",
            "Gender              0\n",
            "Income              0\n",
            "Children            0\n",
            "Education           0\n",
            "Occupation          0\n",
            "Home Owner          0\n",
            "Cars                0\n",
            "Commute Distance    0\n",
            "Region              0\n",
            "Age                 0\n",
            "Purchased Bike      0\n",
            "dtype: int64\n"
          ]
        }
      ]
    },
    {
      "cell_type": "code",
      "source": [
        "#df=df.drop_duplicates()\n",
        "print(len(df))"
      ],
      "metadata": {
        "colab": {
          "base_uri": "https://localhost:8080/"
        },
        "id": "pKBW8gvWFwut",
        "outputId": "4156a18c-fe0e-4d97-d984-e31dec5beb38"
      },
      "execution_count": null,
      "outputs": [
        {
          "output_type": "stream",
          "name": "stdout",
          "text": [
            "978\n"
          ]
        }
      ]
    },
    {
      "cell_type": "code",
      "source": [
        "z_scores=stats.zscore(df['Income'])\n",
        "df=df[(z_scores<3)]\n",
        "print(len(df))"
      ],
      "metadata": {
        "colab": {
          "base_uri": "https://localhost:8080/"
        },
        "id": "HLuYpsHQC-pG",
        "outputId": "b5a9fbb9-b7f6-4e89-9569-180a708be974"
      },
      "execution_count": null,
      "outputs": [
        {
          "output_type": "stream",
          "name": "stdout",
          "text": [
            "969\n"
          ]
        }
      ]
    },
    {
      "cell_type": "code",
      "source": [
        "filtered_data=df[df['Income']>100000]\n",
        "print(len(filtered_data))"
      ],
      "metadata": {
        "colab": {
          "base_uri": "https://localhost:8080/"
        },
        "id": "9FD6Nf1SGObz",
        "outputId": "db907ee7-0b76-4eb7-fa61-993b3c91830a"
      },
      "execution_count": null,
      "outputs": [
        {
          "output_type": "stream",
          "name": "stdout",
          "text": [
            "65\n"
          ]
        }
      ]
    },
    {
      "cell_type": "code",
      "source": [
        "unique_values=df['Gender'].unique()\n",
        "print(unique_values)"
      ],
      "metadata": {
        "colab": {
          "base_uri": "https://localhost:8080/"
        },
        "id": "qxTsErwvJFhq",
        "outputId": "58bb958a-9b1a-4523-c59d-dd6439d4d004"
      },
      "execution_count": null,
      "outputs": [
        {
          "output_type": "stream",
          "name": "stdout",
          "text": [
            "['Female' 'Male']\n"
          ]
        }
      ]
    },
    {
      "cell_type": "code",
      "source": [
        "a=(df['Income']>100000) & (df['Gender']==\"Male\")\n",
        "print(len(a))"
      ],
      "metadata": {
        "colab": {
          "base_uri": "https://localhost:8080/"
        },
        "id": "SlnZLNbTMYXx",
        "outputId": "b8d040dd-9272-479a-e919-e6c17d45c85e"
      },
      "execution_count": null,
      "outputs": [
        {
          "output_type": "stream",
          "name": "stdout",
          "text": [
            "969\n"
          ]
        }
      ]
    },
    {
      "cell_type": "code",
      "source": [
        "unique_values=df['Occupation'].unique()\n",
        "print(unique_values)"
      ],
      "metadata": {
        "colab": {
          "base_uri": "https://localhost:8080/"
        },
        "id": "qFebgbTVM8u6",
        "outputId": "df42c7aa-dee2-462d-bd9b-7becb20e0977"
      },
      "execution_count": null,
      "outputs": [
        {
          "output_type": "stream",
          "name": "stdout",
          "text": [
            "['Skilled Manual' 'Clerical' 'Professional' 'Manual' 'Management']\n"
          ]
        }
      ]
    },
    {
      "cell_type": "code",
      "source": [
        "agg_data = df.groupby('Gender')['Age'].mean()\n",
        "print(agg_data)"
      ],
      "metadata": {
        "colab": {
          "base_uri": "https://localhost:8080/"
        },
        "id": "ZGyTI31DONMz",
        "outputId": "097106a6-bc5c-42c8-c0b8-3a070a046619"
      },
      "execution_count": null,
      "outputs": [
        {
          "output_type": "stream",
          "name": "stdout",
          "text": [
            "Gender\n",
            "Female    44.181250\n",
            "Male      44.196531\n",
            "Name: Age, dtype: float64\n"
          ]
        }
      ]
    },
    {
      "cell_type": "code",
      "source": [
        "agg_data = df.groupby('Gender')['Income'].mean()\n",
        "print(agg_data)"
      ],
      "metadata": {
        "colab": {
          "base_uri": "https://localhost:8080/"
        },
        "id": "oegq_lpgOWQA",
        "outputId": "dd85ec4e-e11d-4635-d6f8-dc63407d58dc"
      },
      "execution_count": null,
      "outputs": [
        {
          "output_type": "stream",
          "name": "stdout",
          "text": [
            "Gender\n",
            "Female    53921.554274\n",
            "Male      56178.422997\n",
            "Name: Income, dtype: float64\n"
          ]
        }
      ]
    },
    {
      "cell_type": "code",
      "source": [
        "one_hot_encode = pd.get_dummies(df,columns=['Gender'])\n",
        "df1=one_hot_encode\n",
        "#print(one_hot_encode)\n",
        "print(df1.head(5))"
      ],
      "metadata": {
        "colab": {
          "base_uri": "https://localhost:8080/"
        },
        "id": "81oAlP7IQHU9",
        "outputId": "3fa67f8e-09d6-4d6a-f0e4-affb65980c1b"
      },
      "execution_count": null,
      "outputs": [
        {
          "output_type": "stream",
          "name": "stdout",
          "text": [
            "      ID Marital Status   Income  Children        Education      Occupation  \\\n",
            "0  12496        Married  40000.0       1.0        Bachelors  Skilled Manual   \n",
            "1  24107        Married  30000.0       3.0  Partial College        Clerical   \n",
            "2  14177        Married  80000.0       5.0  Partial College    Professional   \n",
            "4  25597         Single  30000.0       0.0        Bachelors        Clerical   \n",
            "5  13507        Married  10000.0       2.0  Partial College          Manual   \n",
            "\n",
            "  Home Owner  Cars Commute Distance  Region   Age Purchased Bike  \\\n",
            "0        Yes   0.0        0-1 Miles  Europe  42.0             No   \n",
            "1        Yes   1.0        0-1 Miles  Europe  43.0             No   \n",
            "2         No   2.0        2-5 Miles  Europe  60.0             No   \n",
            "4         No   0.0        0-1 Miles  Europe  36.0            Yes   \n",
            "5        Yes   0.0        1-2 Miles  Europe  50.0             No   \n",
            "\n",
            "   Gender_Female  Gender_Male  \n",
            "0              1            0  \n",
            "1              0            1  \n",
            "2              0            1  \n",
            "4              0            1  \n",
            "5              1            0  \n"
          ]
        }
      ]
    },
    {
      "cell_type": "code",
      "source": [
        "from sklearn.preprocessing import LabelEncoder\n",
        "label_Encoder = LabelEncoder()\n",
        "df['encoded_column'] = label_Encoder.fit_transform(df['Occupation'])\n",
        "print(df['encoded_column'].unique())"
      ],
      "metadata": {
        "colab": {
          "base_uri": "https://localhost:8080/"
        },
        "id": "If1mm7BqTklF",
        "outputId": "4539cf49-6021-40f5-9fc8-5511d44927d5"
      },
      "execution_count": null,
      "outputs": [
        {
          "output_type": "stream",
          "name": "stdout",
          "text": [
            "[4 0 3 2 1]\n"
          ]
        }
      ]
    },
    {
      "cell_type": "code",
      "source": [
        "from sklearn.preprocessing import LabelEncoder\n",
        "label_Encoder = LabelEncoder()\n",
        "encoded_values = label_Encoder.fit_transform(df['Occupation'])\n",
        "unique_encoded_values = set(encoded_values)\n",
        "for encoded_values in unique_encoded_values:\n",
        "  category = label_Encoder.inverse_transform([encoded_values])[0]\n",
        "  print(f\"Encoded value: {encoded_values}, Category: {category}\")"
      ],
      "metadata": {
        "colab": {
          "base_uri": "https://localhost:8080/"
        },
        "id": "ft28wRinVxxY",
        "outputId": "ff78430e-be8b-4fcc-beaa-03d3667abdb2"
      },
      "execution_count": null,
      "outputs": [
        {
          "output_type": "stream",
          "name": "stdout",
          "text": [
            "Encoded value: 0, Category: Clerical\n",
            "Encoded value: 1, Category: Management\n",
            "Encoded value: 2, Category: Manual\n",
            "Encoded value: 3, Category: Professional\n",
            "Encoded value: 4, Category: Skilled Manual\n"
          ]
        }
      ]
    }
  ]
}